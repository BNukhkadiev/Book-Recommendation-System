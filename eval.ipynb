{
 "cells": [
  {
   "cell_type": "markdown",
   "id": "6b099144-f4a1-451b-a721-0fffc412c9f8",
   "metadata": {},
   "source": [
    "## Item based"
   ]
  },
  {
   "cell_type": "markdown",
   "id": "b9073ee2-a8ef-4127-9c02-62857ffa2a32",
   "metadata": {},
   "source": [
    "$R_u(k)\\subset I$ - first $k$ recommendations for $u$\n",
    "\n",
    "$L_u\\subset I$ - real preferences of $u$\n",
    "\n",
    "RMSE is inadequate metric, because precise ratings do not guarantee good recommendations.\n",
    "  \n",
    "More adequate matrics are:\n",
    "\n",
    "$precision@k = \\frac{|R_u(k)\\bigcap_{}^{}L_u|}{|R_u(k)|}$\n",
    "\n",
    "$recall@k = \\frac{|R_u(k)\\bigcap_{}^{}L_u|}{|L_u|}$\n",
    "\n",
    "MAP, ndcg.\n",
    "\n",
    "Target - create Leaderboard of models\n"
   ]
  },
  {
   "cell_type": "code",
   "execution_count": 11,
   "id": "4a5aa8c4-46ce-430d-a735-fb44406386de",
   "metadata": {},
   "outputs": [],
   "source": [
    "import pandas as pd\n",
    "\n",
    "\n",
    "def rmse(real, pred):\n",
    "    from sklearn.metrics import mean_squared_error\n",
    "    return mean_squared_error(real, pred, squared=False)\n",
    "\n",
    "\n",
    "# def check_inputs(func) -> Callable:\n",
    "#     \"\"\"\n",
    "#     Decorator function to validate inputs to precision_at_k & recall_at_k\n",
    "#     \"\"\"\n",
    "#     def checker(df: pd.DataFrame, k: int=3, y_test: str='y_actual', y_pred: str='y_recommended') -> float:\n",
    "#         # check we have a valid entry for k\n",
    "#         if k <= 0:\n",
    "#             raise ValueError(f'Value of k should be greater than 1, read in as: {k}')\n",
    "#         # check y_test & y_pred columns are in df\n",
    "#         if y_test not in df.columns:\n",
    "#             raise ValueError(f'Input dataframe does not have a column named: {y_test}')\n",
    "#         if y_pred not in df.columns:\n",
    "#             raise ValueError(f'Input dataframe does not have a column named: {y_pred}')\n",
    "#         return func(df, k, y_test, y_pred)\n",
    "#     return checker\n",
    "\n",
    "# @check_inputs\n",
    "# def precision_at_k(df: pd.DataFrame, k: int, y_test: str, y_pred: str) -> float:\n",
    "#     \"\"\"\n",
    "#     Function to compute precision@k for an input boolean dataframe\n",
    "    \n",
    "#     Inputs:\n",
    "#         df     -> pandas dataframe containing boolean columns y_test & y_pred\n",
    "#         k      -> integer number of items to consider\n",
    "#         y_test -> string name of column containing actual user input\n",
    "#         y-pred -> string name of column containing recommendation output\n",
    "        \n",
    "#     Output:\n",
    "#         Floating-point number of precision value for k items\n",
    "#     \"\"\"       \n",
    "#     # extract the k rows\n",
    "#     dfK = df.head(k)\n",
    "#     # compute number of recommended items @k\n",
    "#     denominator = dfK[y_pred].sum()\n",
    "#     # compute number of recommended items that are relevant @k\n",
    "#     numerator = dfK[dfK[y_pred] & dfK[y_test]].shape[0]\n",
    "#     # return result\n",
    "#     if denominator > 0:\n",
    "#         return numerator / denominator\n",
    "#     else:\n",
    "#         return None\n",
    "\n",
    "# @check_inputs\n",
    "# def recall_at_k(df: pd.DataFrame, k: int, y_test: str, y_pred: str) -> float:\n",
    "#     \"\"\"\n",
    "#     Function to compute recall@k for an input boolean dataframe\n",
    "    \n",
    "#     Inputs:\n",
    "#         df     -> pandas dataframe containing boolean columns y_test & y_pred\n",
    "#         k      -> integer number of items to consider\n",
    "#         y_test -> string name of column containing actual user input\n",
    "#         y-pred -> string name of column containing recommendation output\n",
    "        \n",
    "#     Output:\n",
    "#         Floating-point number of recall value for k items\n",
    "#     \"\"\"    \n",
    "#     # extract the k rows\n",
    "#     dfK = df.head(k)\n",
    "#     # compute number of all relevant items\n",
    "#     denominator = df[y_test].sum()\n",
    "#     # compute number of recommended items that are relevant @k\n",
    "#     numerator = dfK[dfK[y_pred] & dfK[y_test]].shape[0]\n",
    "#     # return result\n",
    "#     if denominator > 0:\n",
    "#         return numerator/denominator\n",
    "#     else:\n",
    "#         return None\n",
    "    "
   ]
  },
  {
   "cell_type": "code",
   "execution_count": 14,
   "id": "4d658c49-705e-4d6d-86cf-4860110e47b5",
   "metadata": {},
   "outputs": [
    {
     "data": {
      "text/plain": [
       "3.0"
      ]
     },
     "execution_count": 14,
     "metadata": {},
     "output_type": "execute_result"
    }
   ],
   "source": [
    "rmse([1, 2, 3], [4, 5, 6])"
   ]
  },
  {
   "cell_type": "code",
   "execution_count": null,
   "id": "3bf65745-433a-48eb-a4b0-df0a17a516ae",
   "metadata": {},
   "outputs": [],
   "source": []
  },
  {
   "cell_type": "code",
   "execution_count": null,
   "id": "570aeb0d-0716-4713-a876-87d4f86e1082",
   "metadata": {},
   "outputs": [],
   "source": []
  },
  {
   "cell_type": "code",
   "execution_count": null,
   "id": "91b0e845-7bfc-4695-9a00-a9e931ea2301",
   "metadata": {},
   "outputs": [],
   "source": []
  },
  {
   "cell_type": "code",
   "execution_count": null,
   "id": "9caff76a-eca3-4c2e-82c3-5ede9541e382",
   "metadata": {},
   "outputs": [],
   "source": []
  }
 ],
 "metadata": {
  "kernelspec": {
   "display_name": "Python 3 (ipykernel)",
   "language": "python",
   "name": "python3"
  },
  "language_info": {
   "codemirror_mode": {
    "name": "ipython",
    "version": 3
   },
   "file_extension": ".py",
   "mimetype": "text/x-python",
   "name": "python",
   "nbconvert_exporter": "python",
   "pygments_lexer": "ipython3",
   "version": "3.8.3"
  }
 },
 "nbformat": 4,
 "nbformat_minor": 5
}
