{
 "cells": [
  {
   "cell_type": "markdown",
   "id": "6b099144-f4a1-451b-a721-0fffc412c9f8",
   "metadata": {},
   "source": [
    "## Item based"
   ]
  },
  {
   "cell_type": "markdown",
   "id": "b9073ee2-a8ef-4127-9c02-62857ffa2a32",
   "metadata": {},
   "source": [
    "$R_u(k)\\subset I$ - first $k$ recommendations for $u$\n",
    "\n",
    "$L_u\\subset I$ - real preferences of $u$\n",
    "\n",
    "eval with:\n",
    "- rmse: is inadequate metric, because precise ratings do not guarantee good recommendations.\n",
    "More adequate matrics are:\n",
    "- Precision@k\n",
    "- recal@k\n",
    "- MAP, ndcg.\n",
    "\n",
    "Target - create Leaderboard of models"
   ]
  },
  {
   "cell_type": "code",
   "execution_count": 11,
   "id": "4a5aa8c4-46ce-430d-a735-fb44406386de",
   "metadata": {},
   "outputs": [],
   "source": [
    "import pandas as pd\n",
    "\n",
    "\n",
    "def rmse(real, pred):\n",
    "    from sklearn.metrics import mean_squared_error\n",
    "    return mean_squared_error(real, pred, squared=False)\n",
    "\n",
    "\n",
    "def precision_at_k(real, pred):\n",
    "    pass\n",
    "    \n",
    "    \n",
    "    "
   ]
  },
  {
   "cell_type": "code",
   "execution_count": 12,
   "id": "4d658c49-705e-4d6d-86cf-4860110e47b5",
   "metadata": {},
   "outputs": [
    {
     "data": {
      "text/plain": [
       "3.0"
      ]
     },
     "execution_count": 12,
     "metadata": {},
     "output_type": "execute_result"
    }
   ],
   "source": [
    "rmse([1, 2, 3], [4, 5, 6])"
   ]
  },
  {
   "cell_type": "code",
   "execution_count": 4,
   "id": "1baf5031-5f52-4fe0-9185-3ae566f33d94",
   "metadata": {},
   "outputs": [],
   "source": [
    "import sklearn.metrics"
   ]
  },
  {
   "cell_type": "markdown",
   "id": "c77f410a-d978-4f2e-a697-ad912fb23884",
   "metadata": {},
   "source": [
    "## User Based"
   ]
  },
  {
   "cell_type": "code",
   "execution_count": null,
   "id": "3bf65745-433a-48eb-a4b0-df0a17a516ae",
   "metadata": {},
   "outputs": [],
   "source": []
  },
  {
   "cell_type": "code",
   "execution_count": null,
   "id": "570aeb0d-0716-4713-a876-87d4f86e1082",
   "metadata": {},
   "outputs": [],
   "source": []
  },
  {
   "cell_type": "code",
   "execution_count": null,
   "id": "91b0e845-7bfc-4695-9a00-a9e931ea2301",
   "metadata": {},
   "outputs": [],
   "source": []
  },
  {
   "cell_type": "code",
   "execution_count": null,
   "id": "9caff76a-eca3-4c2e-82c3-5ede9541e382",
   "metadata": {},
   "outputs": [],
   "source": []
  }
 ],
 "metadata": {
  "kernelspec": {
   "display_name": "Python 3 (ipykernel)",
   "language": "python",
   "name": "python3"
  },
  "language_info": {
   "codemirror_mode": {
    "name": "ipython",
    "version": 3
   },
   "file_extension": ".py",
   "mimetype": "text/x-python",
   "name": "python",
   "nbconvert_exporter": "python",
   "pygments_lexer": "ipython3",
   "version": "3.8.3"
  }
 },
 "nbformat": 4,
 "nbformat_minor": 5
}
